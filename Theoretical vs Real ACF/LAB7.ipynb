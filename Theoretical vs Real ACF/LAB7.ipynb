{
 "cells": [
  {
   "cell_type": "code",
   "execution_count": 157,
   "metadata": {},
   "outputs": [],
   "source": [
    "import numpy as np\n",
    "import pandas as pd\n",
    "import matplotlib.pyplot as plt\n",
    "from scipy import signal\n",
    "import matplotlib.pyplot as plt\n",
    "from statsmodels.tsa.stattools import adfuller\n",
    "import math"
   ]
  },
  {
   "cell_type": "code",
   "execution_count": 158,
   "metadata": {},
   "outputs": [],
   "source": [
    "def AR(n,mean,std):\n",
    "    np.random.seed(42)\n",
    "    e = std * np.random.randn(n) + mean\n",
    "    y = np.zeros(len(e))\n",
    "    for i in range(len(e)):\n",
    "        if i == 0:\n",
    "            y[i] = e[i]\n",
    "        elif i == 1:\n",
    "            y[i] = 0.5 * y[i-1] + e[i]\n",
    "        else:\n",
    "            y[i] = 0.5 * y[i - 1] + 0.2 * y[i - 2] + e[i]\n",
    "    print(\"Mean of y(t) - 0.5y(t-1) -0.2y(t-2) = e(t) is:  \", y.mean())\n",
    "    print(\"Variance of y(t) - 0.5y(t-1) -0.2y(t-2) = e(t) is: \", y.var())\n",
    "    return y,n,y.mean(),y.var()"
   ]
  },
  {
   "cell_type": "code",
   "execution_count": 159,
   "metadata": {},
   "outputs": [],
   "source": [
    "def MA(n,mean,std):\n",
    "    np.random.seed(42)\n",
    "    e = std * np.random.randn(n) + mean\n",
    "    y = np.zeros(len(e))\n",
    "    for i in range(len(e)):\n",
    "        if i == 0:\n",
    "            y[i] = e[i]\n",
    "        elif i == 1:\n",
    "            y[i] = e[i] + 0.1 * e[i-1]\n",
    "        else:\n",
    "            y[i] = e[i] + 0.1 * e[i-1] + 0.4 * e[i-2]\n",
    "    print(\"Mean of y(t) = e(t) + 0.1e(t-1) + 0.4e(t-2) is :  \", y.mean())\n",
    "    print(\"Variance of y(t) = e(t) + 0.1e(t-1) + 0.4e(t-2)is: \", y.var())\n",
    "    return y,n,y.mean(),y.var()"
   ]
  },
  {
   "cell_type": "code",
   "execution_count": 160,
   "metadata": {},
   "outputs": [],
   "source": [
    "def ARMA(n,mean,std):\n",
    "    np.random.seed(42)\n",
    "    e = std * np.random.randn(n) + mean\n",
    "    y = np.zeros(len(e))\n",
    "    for i in range(len(e)):\n",
    "        if i == 0:\n",
    "            y[i] = e[i]\n",
    "        elif i == 1:\n",
    "            y[i] = e[i] + 0.1 * e[i-1] + 0.5 * y[i-1]\n",
    "        else:\n",
    "            y[i] = e[i] + 0.1 * e[i-1] + 0.4 * e[i-2] + 0.5 * y[i-1] + 0.2 * y[i-2]\n",
    "    print(\"Mean of y(t) -0.5y(t-1) - 0.2y(t-2) = e(t) + 0.1e(t-1) + 0.4e(t-2) is :  \", y.mean())\n",
    "    print(\"Variance of y(t) -0.5y(t-1) - 0.2y(t-2) = e(t) + 0.1e(t-1) + 0.4e(t-2) is : \", y.var())\n",
    "    return y,n,y.mean(),y.var()"
   ]
  },
  {
   "cell_type": "code",
   "execution_count": 161,
   "metadata": {},
   "outputs": [],
   "source": [
    "def ACF(data,lags):\n",
    "    # convert input data into a numpy array\n",
    "    data = np.array(data)\n",
    "    # acf will store the autocorreltion coefficent at each lag interval\n",
    "    # the first datapoint is always 1.0 since anything correlated with itsself is = 1\n",
    "    acf = [1.0]\n",
    "    # calculate the mean for the entire dataset\n",
    "    y_bar = data.mean()\n",
    "    print(\"The mean of this dataset is: \",y_bar)\n",
    "    # subtract the mean from each observation\n",
    "    yy_bar = data - y_bar\n",
    "    # clacualte the total variance for the data set\n",
    "    total_variance = sum(np.square(yy_bar))\n",
    "    #print(\"The total variance for this dataset is: \", total_variance)\n",
    "    # perform a forloop over the dataset with the desired number of lags\n",
    "    # range is 1,lags b/c the first iteration calcualtes T1\n",
    "    for i in range(1,lags):\n",
    "        # first nparray is removing the last element each iteration\n",
    "        yy_bar_bottom = yy_bar[:-i]\n",
    "        # second nparray removes the first element each interation\n",
    "        yy_bar_top = yy_bar[i:]\n",
    "        # take the sum of of the product of each nparray each iteration\n",
    "        yy = sum(yy_bar_top * yy_bar_bottom)\n",
    "        # divide the sum by total variance and append to resulting acf list\n",
    "        acf.append(yy/total_variance)\n",
    "    return acf"
   ]
  },
  {
   "cell_type": "code",
   "execution_count": 162,
   "metadata": {},
   "outputs": [],
   "source": [
    "def acf_plot(y):\n",
    "    #y = y.tolist()\n",
    "    y_rev = y[::-1]\n",
    "    y_rev.extend(y[1:])\n",
    "    print(len(y_rev))\n",
    "    lb = -(math.floor(len(y_rev)/2))\n",
    "    hb = -(lb-1)\n",
    "    x = np.array(list(range(lb,hb)))\n",
    "    figure = plt.stem(x,y_rev,use_line_collection=True)\n",
    "    plt.xlabel('Lag', fontsize=15)\n",
    "    plt.ylabel('AC Coefficent', fontsize=15)\n",
    "    plt.title('ACF of Residuals',fontsize=18)\n",
    "    plt.show()\n",
    "\n",
    "    #return y_rev"
   ]
  },
  {
   "cell_type": "code",
   "execution_count": 163,
   "metadata": {},
   "outputs": [],
   "source": [
    "# Example of AR(2)\n",
    "# y(t) - 0.5y(t-1) -0.2y(t-2) = e(t)\n",
    "# white noise WN (2,1)."
   ]
  },
  {
   "cell_type": "code",
   "execution_count": 164,
   "metadata": {},
   "outputs": [],
   "source": [
    "# 1\n",
    "# A. calculate the theoretical mean and variance of the data"
   ]
  },
  {
   "cell_type": "code",
   "execution_count": 165,
   "metadata": {},
   "outputs": [],
   "source": [
    "# B. Create 100 samples of the AR(2) process above\n",
    "# C. Calculate the experimental mean and variance"
   ]
  },
  {
   "cell_type": "code",
   "execution_count": 166,
   "metadata": {},
   "outputs": [
    {
     "name": "stdout",
     "output_type": "stream",
     "text": [
      "Mean of y(t) - 0.5y(t-1) -0.2y(t-2) = e(t) is:   6.134010832422384\n",
      "Variance of y(t) - 0.5y(t-1) -0.2y(t-2) = e(t) is:  1.3915272059559658\n"
     ]
    }
   ],
   "source": [
    "AR100 = AR(100,2,1)"
   ]
  },
  {
   "cell_type": "code",
   "execution_count": 167,
   "metadata": {},
   "outputs": [
    {
     "name": "stdout",
     "output_type": "stream",
     "text": [
      "Mean of y(t) - 0.5y(t-1) -0.2y(t-2) = e(t) is:   6.709725724529805\n",
      "Variance of y(t) - 0.5y(t-1) -0.2y(t-2) = e(t) is:  1.645599714280936\n"
     ]
    }
   ],
   "source": [
    "# D. Increae sample size to 1,000\n",
    "AR1000 = AR(1000,2,1)"
   ]
  },
  {
   "cell_type": "code",
   "execution_count": 168,
   "metadata": {},
   "outputs": [
    {
     "name": "stdout",
     "output_type": "stream",
     "text": [
      "Mean of y(t) - 0.5y(t-1) -0.2y(t-2) = e(t) is:   6.6574993066255255\n",
      "Variance of y(t) - 0.5y(t-1) -0.2y(t-2) = e(t) is:  1.6468782267283972\n"
     ]
    }
   ],
   "source": [
    "# D. Increase samples to 10,000\n",
    "AR10000 = AR(10000,2,1)"
   ]
  },
  {
   "cell_type": "code",
   "execution_count": 169,
   "metadata": {},
   "outputs": [
    {
     "data": {
      "text/html": [
       "<div>\n",
       "<style scoped>\n",
       "    .dataframe tbody tr th:only-of-type {\n",
       "        vertical-align: middle;\n",
       "    }\n",
       "\n",
       "    .dataframe tbody tr th {\n",
       "        vertical-align: top;\n",
       "    }\n",
       "\n",
       "    .dataframe thead th {\n",
       "        text-align: right;\n",
       "    }\n",
       "</style>\n",
       "<table border=\"1\" class=\"dataframe\">\n",
       "  <thead>\n",
       "    <tr style=\"text-align: right;\">\n",
       "      <th></th>\n",
       "      <th>0</th>\n",
       "      <th>1</th>\n",
       "      <th>2</th>\n",
       "    </tr>\n",
       "  </thead>\n",
       "  <tbody>\n",
       "    <tr>\n",
       "      <td>0</td>\n",
       "      <td>N</td>\n",
       "      <td>Mean</td>\n",
       "      <td>Variance</td>\n",
       "    </tr>\n",
       "    <tr>\n",
       "      <td>1</td>\n",
       "      <td>Theoretical</td>\n",
       "      <td>6.66</td>\n",
       "      <td>1.709</td>\n",
       "    </tr>\n",
       "    <tr>\n",
       "      <td>2</td>\n",
       "      <td>100</td>\n",
       "      <td>6.134010832422384</td>\n",
       "      <td>1.3915272059559658</td>\n",
       "    </tr>\n",
       "    <tr>\n",
       "      <td>3</td>\n",
       "      <td>1000</td>\n",
       "      <td>6.709725724529805</td>\n",
       "      <td>1.645599714280936</td>\n",
       "    </tr>\n",
       "    <tr>\n",
       "      <td>4</td>\n",
       "      <td>10000</td>\n",
       "      <td>6.6574993066255255</td>\n",
       "      <td>1.6468782267283972</td>\n",
       "    </tr>\n",
       "  </tbody>\n",
       "</table>\n",
       "</div>"
      ],
      "text/plain": [
       "             0                   1                   2\n",
       "0            N                Mean            Variance\n",
       "1  Theoretical                6.66               1.709\n",
       "2          100   6.134010832422384  1.3915272059559658\n",
       "3         1000   6.709725724529805   1.645599714280936\n",
       "4        10000  6.6574993066255255  1.6468782267283972"
      ]
     },
     "execution_count": 169,
     "metadata": {},
     "output_type": "execute_result"
    }
   ],
   "source": [
    "# E. Create table to store resutls\n",
    "# F. Add resutls from 1k and 10k samples to table\n",
    "\n",
    "header = np.array([\"N\",\"Mean\",\"Variance\"])\n",
    "actual = np.array([\"Theoretical\",\"6.66\",\"1.709\"])\n",
    "table = np.array([header,actual,AR100[1:],AR1000[1:],AR10000[1:]])\n",
    "df_AR_results = pd.DataFrame(data=table)\n",
    "df_AR_results\n"
   ]
  },
  {
   "cell_type": "code",
   "execution_count": 170,
   "metadata": {},
   "outputs": [],
   "source": [
    "# G plot the autocorrelation of y(t)\n",
    "# 20, 40, and 80 lags"
   ]
  },
  {
   "cell_type": "code",
   "execution_count": 171,
   "metadata": {},
   "outputs": [
    {
     "name": "stdout",
     "output_type": "stream",
     "text": [
      "The mean of this dataset is:  6.6574993066255255\n",
      "39\n"
     ]
    },
    {
     "data": {
      "image/png": "[encoded data removed]",
      "text/plain": [
       "<Figure size 432x288 with 1 Axes>"
      ]
     },
     "metadata": {
      "needs_background": "light"
     },
     "output_type": "display_data"
    }
   ],
   "source": [
    "acf_20 = ACF(AR10000[0],20)\n",
    "acf_plot(acf_20)"
   ]
  },
  {
   "cell_type": "code",
   "execution_count": 172,
   "metadata": {},
   "outputs": [
    {
     "name": "stdout",
     "output_type": "stream",
     "text": [
      "The mean of this dataset is:  6.6574993066255255\n",
      "79\n"
     ]
    },
    {
     "data": {
      "image/png": "[encoded data removed]",
      "text/plain": [
       "<Figure size 432x288 with 1 Axes>"
      ]
     },
     "metadata": {
      "needs_background": "light"
     },
     "output_type": "display_data"
    }
   ],
   "source": [
    "acf_40 = ACF(AR10000[0],40)\n",
    "acf_plot(acf_40)"
   ]
  },
  {
   "cell_type": "code",
   "execution_count": 173,
   "metadata": {},
   "outputs": [
    {
     "name": "stdout",
     "output_type": "stream",
     "text": [
      "The mean of this dataset is:  6.6574993066255255\n",
      "159\n"
     ]
    },
    {
     "data": {
      "image/png": "[encoded data removed]",
      "text/plain": [
       "<Figure size 432x288 with 1 Axes>"
      ]
     },
     "metadata": {
      "needs_background": "light"
     },
     "output_type": "display_data"
    }
   ],
   "source": [
    "acf_80 = ACF(AR10000[0],80)\n",
    "acf_plot(acf_80)"
   ]
  },
  {
   "cell_type": "code",
   "execution_count": 174,
   "metadata": {},
   "outputs": [],
   "source": [
    "# 2 100 samples for MA(2) y(t) = e(t) + 0.1e(t-1) + 0.4e(t-2)"
   ]
  },
  {
   "cell_type": "code",
   "execution_count": 175,
   "metadata": {},
   "outputs": [
    {
     "name": "stdout",
     "output_type": "stream",
     "text": [
      "Mean of y(t) = e(t) + 0.1e(t-1) + 0.4e(t-2) is :   2.827382705749165\n",
      "Variance of y(t) = e(t) + 0.1e(t-1) + 0.4e(t-2)is:  0.9264701682001014\n"
     ]
    }
   ],
   "source": [
    "MA100 = MA(100,2,1)"
   ]
  },
  {
   "cell_type": "code",
   "execution_count": 176,
   "metadata": {},
   "outputs": [
    {
     "name": "stdout",
     "output_type": "stream",
     "text": [
      "Mean of y(t) = e(t) + 0.1e(t-1) + 0.4e(t-2) is :   3.0271402639387235\n",
      "Variance of y(t) = e(t) + 0.1e(t-1) + 0.4e(t-2)is:  1.11936484907547\n"
     ]
    }
   ],
   "source": [
    "MA1000 = MA(1000,2,1)"
   ]
  },
  {
   "cell_type": "code",
   "execution_count": 177,
   "metadata": {},
   "outputs": [
    {
     "name": "stdout",
     "output_type": "stream",
     "text": [
      "Mean of y(t) = e(t) + 0.1e(t-1) + 0.4e(t-2) is :   2.996563974901763\n",
      "Variance of y(t) = e(t) + 0.1e(t-1) + 0.4e(t-2)is:  1.1608904796459285\n"
     ]
    }
   ],
   "source": [
    "MA10000 = MA(10000,2,1)"
   ]
  },
  {
   "cell_type": "code",
   "execution_count": 178,
   "metadata": {},
   "outputs": [
    {
     "data": {
      "text/html": [
       "<div>\n",
       "<style scoped>\n",
       "    .dataframe tbody tr th:only-of-type {\n",
       "        vertical-align: middle;\n",
       "    }\n",
       "\n",
       "    .dataframe tbody tr th {\n",
       "        vertical-align: top;\n",
       "    }\n",
       "\n",
       "    .dataframe thead th {\n",
       "        text-align: right;\n",
       "    }\n",
       "</style>\n",
       "<table border=\"1\" class=\"dataframe\">\n",
       "  <thead>\n",
       "    <tr style=\"text-align: right;\">\n",
       "      <th></th>\n",
       "      <th>0</th>\n",
       "      <th>1</th>\n",
       "      <th>2</th>\n",
       "    </tr>\n",
       "  </thead>\n",
       "  <tbody>\n",
       "    <tr>\n",
       "      <td>0</td>\n",
       "      <td>N</td>\n",
       "      <td>Mean</td>\n",
       "      <td>Variance</td>\n",
       "    </tr>\n",
       "    <tr>\n",
       "      <td>1</td>\n",
       "      <td>Theoretical</td>\n",
       "      <td>3</td>\n",
       "      <td>1.17</td>\n",
       "    </tr>\n",
       "    <tr>\n",
       "      <td>2</td>\n",
       "      <td>100</td>\n",
       "      <td>2.827382705749165</td>\n",
       "      <td>0.9264701682001014</td>\n",
       "    </tr>\n",
       "    <tr>\n",
       "      <td>3</td>\n",
       "      <td>1000</td>\n",
       "      <td>3.0271402639387235</td>\n",
       "      <td>1.11936484907547</td>\n",
       "    </tr>\n",
       "    <tr>\n",
       "      <td>4</td>\n",
       "      <td>10000</td>\n",
       "      <td>2.996563974901763</td>\n",
       "      <td>1.1608904796459285</td>\n",
       "    </tr>\n",
       "  </tbody>\n",
       "</table>\n",
       "</div>"
      ],
      "text/plain": [
       "             0                   1                   2\n",
       "0            N                Mean            Variance\n",
       "1  Theoretical                   3                1.17\n",
       "2          100   2.827382705749165  0.9264701682001014\n",
       "3         1000  3.0271402639387235    1.11936484907547\n",
       "4        10000   2.996563974901763  1.1608904796459285"
      ]
     },
     "execution_count": 178,
     "metadata": {},
     "output_type": "execute_result"
    }
   ],
   "source": [
    "# E. Create table to store resutls\n",
    "# F. Add resutls from 1k and 10k samples to table\n",
    "\n",
    "header1 = np.array([\"N\",\"Mean\",\"Variance\"])\n",
    "actual1 = np.array([\"Theoretical\",\"3\",\"1.17\"])\n",
    "table1 = np.array([header1,actual1,MA100[1:],MA1000[1:],MA10000[1:]])\n",
    "df_MA_results = pd.DataFrame(data=table1)\n",
    "df_MA_results"
   ]
  },
  {
   "cell_type": "code",
   "execution_count": 179,
   "metadata": {},
   "outputs": [
    {
     "name": "stdout",
     "output_type": "stream",
     "text": [
      "The mean of this dataset is:  2.996563974901763\n",
      "39\n"
     ]
    },
    {
     "data": {
      "image/png": "[encoded data removed]",
      "text/plain": [
       "<Figure size 432x288 with 1 Axes>"
      ]
     },
     "metadata": {
      "needs_background": "light"
     },
     "output_type": "display_data"
    }
   ],
   "source": [
    "# G plot the autocorrelation of y(t)\n",
    "# 20, 40, and 80 lags\n",
    "acf_201 = ACF(MA10000[0],20)\n",
    "acf_plot(acf_201)"
   ]
  },
  {
   "cell_type": "code",
   "execution_count": 180,
   "metadata": {},
   "outputs": [
    {
     "name": "stdout",
     "output_type": "stream",
     "text": [
      "The mean of this dataset is:  2.996563974901763\n",
      "79\n"
     ]
    },
    {
     "data": {
      "image/png": "[encoded data removed]",
      "text/plain": [
       "<Figure size 432x288 with 1 Axes>"
      ]
     },
     "metadata": {
      "needs_background": "light"
     },
     "output_type": "display_data"
    }
   ],
   "source": [
    "acf_401 = ACF(MA10000[0],40)\n",
    "acf_plot(acf_401)"
   ]
  },
  {
   "cell_type": "code",
   "execution_count": 181,
   "metadata": {},
   "outputs": [
    {
     "name": "stdout",
     "output_type": "stream",
     "text": [
      "The mean of this dataset is:  2.996563974901763\n",
      "159\n"
     ]
    },
    {
     "data": {
      "image/png": "[encoded data removed]",
      "text/plain": [
       "<Figure size 432x288 with 1 Axes>"
      ]
     },
     "metadata": {
      "needs_background": "light"
     },
     "output_type": "display_data"
    }
   ],
   "source": [
    "acf_801 = ACF(MA10000[0],80)\n",
    "acf_plot(acf_801)"
   ]
  },
  {
   "cell_type": "code",
   "execution_count": 182,
   "metadata": {},
   "outputs": [],
   "source": [
    "# 3 100 samples for ARMA(2,2) y(t) -0.5y(t-1) - 0.2y(t-2) = e(t) + 0.1e(t-1) + 0.4e(t-2)"
   ]
  },
  {
   "cell_type": "code",
   "execution_count": 183,
   "metadata": {},
   "outputs": [
    {
     "name": "stdout",
     "output_type": "stream",
     "text": [
      "Mean of y(t) -0.5y(t-1) - 0.2y(t-2) = e(t) + 0.1e(t-1) + 0.4e(t-2) is :   9.144764625198754\n",
      "Variance of y(t) -0.5y(t-1) - 0.2y(t-2) = e(t) + 0.1e(t-1) + 0.4e(t-2) is :  2.8058290517083733\n"
     ]
    }
   ],
   "source": [
    "ARMA100 = ARMA(100,2,1)"
   ]
  },
  {
   "cell_type": "code",
   "execution_count": 184,
   "metadata": {},
   "outputs": [
    {
     "name": "stdout",
     "output_type": "stream",
     "text": [
      "Mean of y(t) -0.5y(t-1) - 0.2y(t-2) = e(t) + 0.1e(t-1) + 0.4e(t-2) is :   10.058327428924692\n",
      "Variance of y(t) -0.5y(t-1) - 0.2y(t-2) = e(t) + 0.1e(t-1) + 0.4e(t-2) is :  2.939506967709488\n"
     ]
    }
   ],
   "source": [
    "ARMA1000 = ARMA(1000,2,1)"
   ]
  },
  {
   "cell_type": "code",
   "execution_count": 185,
   "metadata": {},
   "outputs": [
    {
     "name": "stdout",
     "output_type": "stream",
     "text": [
      "Mean of y(t) -0.5y(t-1) - 0.2y(t-2) = e(t) + 0.1e(t-1) + 0.4e(t-2) is :   9.985646228306974\n",
      "Variance of y(t) -0.5y(t-1) - 0.2y(t-2) = e(t) + 0.1e(t-1) + 0.4e(t-2) is :  2.8529705831441023\n"
     ]
    }
   ],
   "source": [
    "ARMA10000 = ARMA(10000,2,1)"
   ]
  },
  {
   "cell_type": "code",
   "execution_count": 192,
   "metadata": {},
   "outputs": [
    {
     "data": {
      "text/html": [
       "<div>\n",
       "<style scoped>\n",
       "    .dataframe tbody tr th:only-of-type {\n",
       "        vertical-align: middle;\n",
       "    }\n",
       "\n",
       "    .dataframe tbody tr th {\n",
       "        vertical-align: top;\n",
       "    }\n",
       "\n",
       "    .dataframe thead th {\n",
       "        text-align: right;\n",
       "    }\n",
       "</style>\n",
       "<table border=\"1\" class=\"dataframe\">\n",
       "  <thead>\n",
       "    <tr style=\"text-align: right;\">\n",
       "      <th></th>\n",
       "      <th>0</th>\n",
       "      <th>1</th>\n",
       "      <th>2</th>\n",
       "    </tr>\n",
       "  </thead>\n",
       "  <tbody>\n",
       "    <tr>\n",
       "      <td>0</td>\n",
       "      <td>N</td>\n",
       "      <td>Mean</td>\n",
       "      <td>Variance</td>\n",
       "    </tr>\n",
       "    <tr>\n",
       "      <td>1</td>\n",
       "      <td>Theoretical</td>\n",
       "      <td>10</td>\n",
       "      <td>2.795</td>\n",
       "    </tr>\n",
       "    <tr>\n",
       "      <td>2</td>\n",
       "      <td>100</td>\n",
       "      <td>9.144764625198754</td>\n",
       "      <td>2.8058290517083733</td>\n",
       "    </tr>\n",
       "    <tr>\n",
       "      <td>3</td>\n",
       "      <td>1000</td>\n",
       "      <td>10.058327428924692</td>\n",
       "      <td>2.939506967709488</td>\n",
       "    </tr>\n",
       "    <tr>\n",
       "      <td>4</td>\n",
       "      <td>10000</td>\n",
       "      <td>9.985646228306974</td>\n",
       "      <td>2.8529705831441023</td>\n",
       "    </tr>\n",
       "  </tbody>\n",
       "</table>\n",
       "</div>"
      ],
      "text/plain": [
       "             0                   1                   2\n",
       "0            N                Mean            Variance\n",
       "1  Theoretical                  10               2.795\n",
       "2          100   9.144764625198754  2.8058290517083733\n",
       "3         1000  10.058327428924692   2.939506967709488\n",
       "4        10000   9.985646228306974  2.8529705831441023"
      ]
     },
     "execution_count": 192,
     "metadata": {},
     "output_type": "execute_result"
    }
   ],
   "source": [
    "# E. Create table to store resutls\n",
    "# F. Add resutls from 1k and 10k samples to table\n",
    "\n",
    "header2 = np.array([\"N\",\"Mean\",\"Variance\"])\n",
    "actual2 = np.array([\"Theoretical\",\"10\",\"2.795\"])\n",
    "table2 = np.array([header2,actual2,ARMA100[1:],ARMA1000[1:],ARMA10000[1:]])\n",
    "df_ARMA_results = pd.DataFrame(data=table2)\n",
    "df_ARMA_results"
   ]
  },
  {
   "cell_type": "code",
   "execution_count": 187,
   "metadata": {},
   "outputs": [
    {
     "name": "stdout",
     "output_type": "stream",
     "text": [
      "The mean of this dataset is:  9.985646228306974\n",
      "39\n"
     ]
    },
    {
     "data": {
      "image/png": "[encoded data removed]",
      "text/plain": [
       "<Figure size 432x288 with 1 Axes>"
      ]
     },
     "metadata": {
      "needs_background": "light"
     },
     "output_type": "display_data"
    }
   ],
   "source": [
    "# G plot the autocorrelation of y(t)\n",
    "# 20, 40, and 80 lags\n",
    "acf_202 = ACF(ARMA10000[0],20)\n",
    "acf_plot(acf_202)"
   ]
  },
  {
   "cell_type": "code",
   "execution_count": 188,
   "metadata": {},
   "outputs": [
    {
     "name": "stdout",
     "output_type": "stream",
     "text": [
      "The mean of this dataset is:  9.985646228306974\n",
      "79\n"
     ]
    },
    {
     "data": {
      "image/png": "[encoded data removed]",
      "text/plain": [
       "<Figure size 432x288 with 1 Axes>"
      ]
     },
     "metadata": {
      "needs_background": "light"
     },
     "output_type": "display_data"
    }
   ],
   "source": [
    "acf_402 = ACF(ARMA10000[0],40)\n",
    "acf_plot(acf_402)"
   ]
  },
  {
   "cell_type": "code",
   "execution_count": 189,
   "metadata": {},
   "outputs": [
    {
     "name": "stdout",
     "output_type": "stream",
     "text": [
      "The mean of this dataset is:  9.985646228306974\n",
      "159\n"
     ]
    },
    {
     "data": {
      "image/png": "[encoded data removed]",
      "text/plain": [
       "<Figure size 432x288 with 1 Axes>"
      ]
     },
     "metadata": {
      "needs_background": "light"
     },
     "output_type": "display_data"
    }
   ],
   "source": [
    "acf_802 = ACF(ARMA10000[0],80)\n",
    "acf_plot(acf_802)"
   ]
  },
  {
   "cell_type": "code",
   "execution_count": null,
   "metadata": {},
   "outputs": [],
   "source": []
  }
 ],
 "metadata": {
  "kernelspec": {
   "display_name": "Python 3",
   "language": "python",
   "name": "python3"
  },
  "language_info": {
   "codemirror_mode": {
    "name": "ipython",
    "version": 3
   },
   "file_extension": ".py",
   "mimetype": "text/x-python",
   "name": "python",
   "nbconvert_exporter": "python",
   "pygments_lexer": "ipython3",
   "version": "3.7.4"
  }
 },
 "nbformat": 4,
 "nbformat_minor": 2
}
